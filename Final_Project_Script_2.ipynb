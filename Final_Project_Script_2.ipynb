{
  "nbformat": 4,
  "nbformat_minor": 0,
  "metadata": {
    "colab": {
      "name": "Final Project: Script 2",
      "provenance": [],
      "collapsed_sections": [],
      "authorship_tag": "ABX9TyOPWcbW71Q8P6OVLvX0Evj4",
      "include_colab_link": true
    },
    "kernelspec": {
      "name": "python3",
      "display_name": "Python 3"
    },
    "language_info": {
      "name": "python"
    }
  },
  "cells": [
    {
      "cell_type": "markdown",
      "metadata": {
        "id": "view-in-github",
        "colab_type": "text"
      },
      "source": [
        "<a href=\"https://colab.research.google.com/github/swmishra/final-proj-S2021/blob/master/Final_Project_Script_2.ipynb\" target=\"_parent\"><img src=\"https://colab.research.google.com/assets/colab-badge.svg\" alt=\"Open In Colab\"/></a>"
      ]
    },
    {
      "cell_type": "markdown",
      "metadata": {
        "id": "Sl2QyF66Q-Or"
      },
      "source": [
        "Name: Web scraping an online image containing information about the 3 Covid-19 vaccines currently available in the U.S., to create a chatbot called \"Covid-19 vaccine FAQs\" for users\n",
        "\n",
        "Date created: 6 APRIL 2021\n",
        "\n",
        "Version of Python you are using: 3.9.2\n",
        "\n",
        "INPUT: \n",
        "This chatbot function takes a Covid-19 vaccine company name as an input (Pfizer, Moderna, Janssen), followed by the subcategories as an input (Vaccine name, MOA, Dosing schedule, Efficacy).\n",
        "\n",
        "OUTPUT: \n",
        "The output is the specific information contained within the subcategories of each individual Covid-19 vaccine company."
      ]
    },
    {
      "cell_type": "code",
      "metadata": {
        "id": "mzwPC1Zcc9II"
      },
      "source": [
        "# This example checks to see if we have bs4 installed and will return a boolean.\n",
        "import sys\n",
        "# install libraries\n",
        "'bs4' in sys.modules\n",
        "!pip install requests\n",
        "!pip install lxml\n",
        "!pip install bs4\n",
        "# importing libraries\n",
        "import requests\n",
        "from bs4 import BeautifulSoup"
      ],
      "execution_count": null,
      "outputs": []
    },
    {
      "cell_type": "code",
      "metadata": {
        "id": "Nycu9EcUTNqe"
      },
      "source": [
        "# Scraping the image on medpagetoday.com that contains information about the Covid-19 vaccines currently available in the U.S.\n",
        "# making a fresh request for the page content\n",
        "res = requests.get(\"https://www.medpagetoday.com/special-reports/exclusives/91489\")\n",
        "# Now, making the soup\n",
        "soup = bs4.BeautifulSoup(res.text, 'lxml')\n",
        "soup # running this to get a structured output of HTML code\n",
        "# figuring out what to pass into soup.select() \n",
        "# using the developer tools to inspect an element on the page, it can be seen that most images are associated with an <img> tag\n",
        "# img is an element tag, not a class or id\n",
        "soup.select('img')\n",
        "# exploring the results by looking at the first image\n",
        "soup.select('img')[0]\n",
        "# as a class is being parsed, the . is needed in the argument\n",
        "soup.select('.mpt-media-container--mpt-image')\n",
        "covid_vaccine = soup.select('.mpt-media-container--mpt-image')[0]\n",
        "covid_vaccine #running this to make sure that the right image is being scraped\n",
        "# calling different tags in the covid_vaccine tag object\n",
        "covid_vaccine['class']\n",
        "covid_vaccine['src']# this returns the URL that is needed as a string"
      ],
      "execution_count": null,
      "outputs": []
    },
    {
      "cell_type": "code",
      "metadata": {
        "id": "HUmwalpfYuFM"
      },
      "source": [
        "# making a new request based on the src url\n",
        "image_link = requests.get(\"https://clf1.medpagetoday.net/media/images/91xxx/91489.jpg\")\n",
        "# show the image link using a \"content\" attribute to show the image in its raw form\n",
        "image_link.content\n",
        "# Creating a new jpg image by opening a new file, writing to it, and then closing it\n",
        "# using the variable \"i\" for \"image\"\n",
        "i = open('covid_vaccine_image.jpg', 'wb') # wb denotes \"write binary\"\n",
        "# writing all that binary content to the file\n",
        "i.write(image_link.content)\n",
        "# to close the file\n",
        "i.close()\n",
        "# importing the file, to download the image locally\n",
        "from google.colab import files\n",
        "files.download('covid_vaccine_image.jpg')"
      ],
      "execution_count": null,
      "outputs": []
    },
    {
      "cell_type": "code",
      "metadata": {
        "id": "gM9XhRCvlOAt"
      },
      "source": [
        "#This function will use the information from the downloaded image to create a chatbot called \"Covid-19 vaccine FAQs\":-\n",
        "#using input() to capture input from a user\n",
        "covid_vaccine = input(\"Hello, which Covid-19 vaccine company information are you looking for? (Enter one of: Pfizer, Moderna, Janssen) *Letters are case-sensitive* \")\n",
        "print (\"Gathering information about the vaccine: \" + covid_vaccine)\n",
        "\n",
        "# This chatbot function converts a given covid vaccine input (Pfizer, Moderna, Janssen) into specific information output about: Vaccine name, MOA, Dosing schedule, Efficacy)\n",
        "\n",
        "# Using if/elif/else structure to classify the input into one of the four categories and respond back to the user\n",
        "if 'Pfizer' in covid_vaccine: \n",
        "  pfizer = input(\"What feature of the vaccine do you want to know about? (Enter one of: Vaccine name, MOA, Dosing schedule, Efficacy) *Letters are case-sensitive* \")\n",
        "  if \"Vaccine name\" in pfizer:\n",
        "    print (\"BNT162b2\")\n",
        "  elif \"MOA\" in pfizer:\n",
        "    print (\"mRNA vaccine\")\n",
        "  elif \"Dosing schedule\" in pfizer:\n",
        "    print (\"2 doses, 21 days apart\")\n",
        "  elif \"Efficacy\" in pfizer:\n",
        "    print (\"95% at least 7 days after dose 2\")\n",
        "  else:\n",
        "    print (\"ERROR\")\n",
        "\n",
        "if 'Moderna' in covid_vaccine:\n",
        "  moderna = input(\"What feature of the vaccine do you want to know about? (Enter one of: Vaccine name, MOA, Dosing schedule, Efficacy) *Letters are case-sensitive*\")\n",
        "  if \"Vaccine name\" in moderna:\n",
        "    print (\"mRNA-1273\")\n",
        "  elif \"MOA\" in moderna:\n",
        "    print (\"mRNA vaccine\")\n",
        "  elif \"Dosing schedule\" in moderna:\n",
        "    print (\"2 doses, 28 days apart\")\n",
        "  elif \"Efficacy\" in moderna:\n",
        "    print (\"94.1% at least 14 days after dose 2\")\n",
        "  else:\n",
        "    print (\"ERROR\")\n",
        "\n",
        "if 'Janssen' in covid_vaccine:\n",
        "  janssen = input(\"What feature of the vaccine do you want to know about? (Enter one of: Vaccine name, MOA, Dosing schedule, Efficacy) *Letters are case-sensitive*\")\n",
        "  if \"Vaccine name\" in janssen:\n",
        "    print (\"Ad26.COV2.S\")\n",
        "  elif \"MOA\" in janssen:\n",
        "    print (\"Adenovirus vector vaccine\")\n",
        "  elif \"Dosing schedule\" in janssen:\n",
        "    print (\"1 dose, 2 dose regimen under evaluation\")\n",
        "  elif \"Efficacy\" in janssen:\n",
        "    print (\"72% in the U.S. and 66% globally against moderate-to-severe disease; 85% effective against severe disease, 28 days after a single dose\")\n",
        "  else:\n",
        "    print (\"ERROR\")"
      ],
      "execution_count": null,
      "outputs": []
    }
  ]
}