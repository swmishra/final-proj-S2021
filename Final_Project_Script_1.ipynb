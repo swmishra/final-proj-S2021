{
  "nbformat": 4,
  "nbformat_minor": 0,
  "metadata": {
    "colab": {
      "name": "Final Project: Script 1",
      "provenance": [],
      "collapsed_sections": [],
      "authorship_tag": "ABX9TyN3yDVElme1P71M7VAXkx3D",
      "include_colab_link": true
    },
    "kernelspec": {
      "name": "python3",
      "display_name": "Python 3"
    },
    "language_info": {
      "name": "python"
    }
  },
  "cells": [
    {
      "cell_type": "markdown",
      "metadata": {
        "id": "view-in-github",
        "colab_type": "text"
      },
      "source": [
        "<a href=\"https://colab.research.google.com/github/swmishra/final-proj-S2021/blob/master/Final_Project_Script_1.ipynb\" target=\"_parent\"><img src=\"https://colab.research.google.com/assets/colab-badge.svg\" alt=\"Open In Colab\"/></a>"
      ]
    },
    {
      "cell_type": "markdown",
      "metadata": {
        "id": "uYrpsFqWgSLF"
      },
      "source": [
        "Name: Web-scraping Weather Forecast Information with Python\n",
        "\n",
        "Date created: 6 April 2021\n",
        "\n",
        "Version of Python you are using: 3.9.2\n",
        "\n",
        "Very brief description of the assignment or the assignment name. Include inputs and outputs.\n",
        "\n",
        "In this lab, I am working with a script that scrapes the 5-day weather forecast from the National Weather Service website. The script extracts information from multiple elements listed under the same class name using the BeautifulSoup library.\n",
        "\n",
        "INPUT: .split(), .replace(), regex(), .upper()\n",
        "\n",
        "OUTPUT: Creates a list item at every instance of separator, Removes extra whitespaces or lines for a cleaner format, Adds space between potential words, Converts the final output to uppercase"
      ]
    },
    {
      "cell_type": "code",
      "metadata": {
        "colab": {
          "base_uri": "https://localhost:8080/"
        },
        "id": "ml0c8S5ygK5S",
        "outputId": "2d2fe6c7-ae65-43a6-d07b-8cb7e7b15fd3"
      },
      "source": [
        "# import required libraries\n",
        "import requests\n",
        "from bs4 import BeautifulSoup\n",
        "\n",
        "# Create an empty list to store response\n",
        "forecast = []\n",
        "\n",
        "## Provide the latitude and longitude for the location you would like to check the forecast for\n",
        "## Lat/lon in decimal degrees provided for Chicago, IL\n",
        "lat = '41.878113'\n",
        "lon = '-87.629799'\n",
        "\n",
        "# Create url for the requested location through string concatenation\n",
        "url = 'https://forecast.weather.gov/MapClick.php?lat=41.8843&lon=-87.6324#.YG32hs-SmHs'+lat+\"&lon=\"+lon\n",
        "# Check if the URL exists\n",
        "# print url\n",
        "\n",
        "# Send request to retrieve the web-page using the get() function from the requests library\n",
        "# The page variable stores the response from the web-page\n",
        "page = requests.get(url)\n",
        "\n",
        "# Create a BeautifulSoup object with the response from the URL\n",
        "# Access contents of the web-page using .content\n",
        "# html_parser is used since our page is in HTML format\n",
        "soup=BeautifulSoup(page.content,\"html.parser\")\n",
        "\n",
        "# Locate elements on page to be scraped\n",
        "# findAll() locates all occurrences of div tag with the given class name\n",
        "# stores it in the BeautifulSoup object\n",
        "weather_forecast = soup.findAll(\"li\", {\"class\": \"forecast-tombstone\"})\n",
        "\n",
        "# Loop through the BeautifulSoup object to extract text text from every class instance using .text\n",
        "# Store results in a list\n",
        "for i in weather_forecast:\n",
        "    i = i.text\n",
        "    forecast.append(i)\n",
        "\n",
        "# Print list to remove unicode characters\n",
        "for day in forecast:\n",
        "    print(day)"
      ],
      "execution_count": null,
      "outputs": [
        {
          "output_type": "stream",
          "text": [
            "\n",
            "\n",
            "Tonight\n",
            "ChanceT-storms thenChanceShowersLow: 58 °F\n",
            "\n",
            "\n",
            "Thursday\n",
            "ShowersHigh: 62 °F\n",
            "\n",
            "\n",
            "ThursdayNight\n",
            "ChanceShowersLow: 50 °F\n",
            "\n",
            "\n",
            "Friday\n",
            "ScatteredShowersHigh: 62 °F\n",
            "\n",
            "\n",
            "FridayNight\n",
            "Partly CloudyLow: 47 °F\n",
            "\n",
            "\n",
            "Saturday\n",
            "ChanceShowers thenShowersLikelyHigh: 60 °F\n",
            "\n",
            "\n",
            "SaturdayNight\n",
            "ShowersLikelyLow: 47 °F\n",
            "\n",
            "\n",
            "Sunday\n",
            "ChanceShowersHigh: 61 °F\n",
            "\n",
            "\n",
            "SundayNight\n",
            "Mostly CloudyLow: 47 °F\n"
          ],
          "name": "stdout"
        }
      ]
    },
    {
      "cell_type": "code",
      "metadata": {
        "colab": {
          "base_uri": "https://localhost:8080/"
        },
        "id": "1cYEtpHzUvh9",
        "outputId": "70b2ca2d-4c45-469d-df57-a741665f5e0d"
      },
      "source": [
        "# Scraped multi-line String\n",
        "forecast = '''\n",
        "Tonight\n",
        "ChanceT-storms thenChanceShowersLow: 58 °F\n",
        "\n",
        "\n",
        "Thursday\n",
        "ShowersHigh: 62 °F\n",
        "\n",
        "\n",
        "ThursdayNight\n",
        "ChanceShowersLow: 50 °F\n",
        "\n",
        "\n",
        "Friday\n",
        "ScatteredShowersHigh: 62 °F\n",
        "\n",
        "\n",
        "FridayNight\n",
        "Partly CloudyLow: 47 °F\n",
        "\n",
        "\n",
        "Saturday\n",
        "ChanceShowers thenShowersLikelyHigh: 60 °F\n",
        "\n",
        "\n",
        "SaturdayNight\n",
        "ShowersLikelyLow: 47 °F\n",
        "\n",
        "\n",
        "Sunday\n",
        "ChanceShowersHigh: 61 °F\n",
        "\n",
        "\n",
        "SundayNight\n",
        "Mostly CloudyLow: 47 °F\n",
        "'''\n",
        "\n",
        "# Split string into a list\n",
        "# Use two blank lines (\\n\\n) as the separator\n",
        "# Creates a list item at every instance of separator\n",
        "forecast = forecast.split('\\n\\n')\n",
        "\n",
        "# Loop through list to make string replacements to each item\n",
        "# Remove extra whitespaces or lines for a cleaner format\n",
        "for day in forecast:\n",
        "    day = day.replace('\\n',': ')\n",
        "    print(day)"
      ],
      "execution_count": 42,
      "outputs": [
        {
          "output_type": "stream",
          "text": [
            ": Tonight: ChanceT-storms thenChanceShowersLow: 58 °F\n",
            ": Thursday: ShowersHigh: 62 °F\n",
            ": ThursdayNight: ChanceShowersLow: 50 °F\n",
            ": Friday: ScatteredShowersHigh: 62 °F\n",
            ": FridayNight: Partly CloudyLow: 47 °F\n",
            ": Saturday: ChanceShowers thenShowersLikelyHigh: 60 °F\n",
            ": SaturdayNight: ShowersLikelyLow: 47 °F\n",
            ": Sunday: ChanceShowersHigh: 61 °F\n",
            ": SundayNight: Mostly CloudyLow: 47 °F: \n"
          ],
          "name": "stdout"
        }
      ]
    },
    {
      "cell_type": "code",
      "metadata": {
        "colab": {
          "base_uri": "https://localhost:8080/"
        },
        "id": "TVLx0TFPlbqi",
        "outputId": "2e34b3dc-fa19-4354-dc5f-d3b2127b12d3"
      },
      "source": [
        "#adding space between potential words\n",
        "#using regex() + list comprehension method\n",
        "import re\n",
        "\n",
        "#initializing list\n",
        "forecast_list1 = [\": Tonight: ChanceT-storms thenChanceShowersLow: 58 °F\"]\n",
        "forecast_list2 = [\": Thursday: ShowersHigh: 62 °F\"]\n",
        "forecast_list3 = [\": ThursdayNight: ChanceShowersLow: 50 °F\"]\n",
        "forecast_list4 = [\": Friday: ScatteredShowersHigh: 62 °F\"]\n",
        "forecast_list5 = [\": FridayNight: Partly CloudyLow: 47 °F\"]\n",
        "forecast_list6 = [\": Saturday: ChanceShowers thenShowersLikelyHigh: 60 °F\"]\n",
        "forecast_list7 = [\": SaturdayNight: ShowersLikelyLow: 47 °F\"]\n",
        "forecast_list8 = [\": Sunday: ChanceShowersHigh: 61 °F:\"]\n",
        "forecast_list9 = [\": SundayNight: Mostly CloudyLow: 47 °F:\"] \n",
        "\n",
        "# using regex() to perform task \n",
        "res1 = [re.sub(r\"(\\w)([A-Z])\", r\"\\1 \\2\", ele) for ele in forecast_list1]\n",
        "res2 = [re.sub(r\"(\\w)([A-Z])\", r\"\\1 \\2\", ele) for ele in forecast_list2]\n",
        "res3 = [re.sub(r\"(\\w)([A-Z])\", r\"\\1 \\2\", ele) for ele in forecast_list3]\n",
        "res4 = [re.sub(r\"(\\w)([A-Z])\", r\"\\1 \\2\", ele) for ele in forecast_list4]\n",
        "res5 = [re.sub(r\"(\\w)([A-Z])\", r\"\\1 \\2\", ele) for ele in forecast_list5]\n",
        "res6 = [re.sub(r\"(\\w)([A-Z])\", r\"\\1 \\2\", ele) for ele in forecast_list6]\n",
        "res7 = [re.sub(r\"(\\w)([A-Z])\", r\"\\1 \\2\", ele) for ele in forecast_list7]\n",
        "res8 = [re.sub(r\"(\\w)([A-Z])\", r\"\\1 \\2\", ele) for ele in forecast_list8]\n",
        "res9 = [re.sub(r\"(\\w)([A-Z])\", r\"\\1 \\2\", ele) for ele in forecast_list9]\n",
        "\n",
        "# printing results \n",
        "print(str(res1))\n",
        "print(str(res2))\n",
        "print(str(res3))\n",
        "print(str(res4))\n",
        "print(str(res5))\n",
        "print(str(res6))\n",
        "print(str(res7))\n",
        "print(str(res8))\n",
        "print(str(res9))"
      ],
      "execution_count": 54,
      "outputs": [
        {
          "output_type": "stream",
          "text": [
            "[': Tonight: Chance T-storms then Chance Showers Low: 58 °F']\n",
            "[': Thursday: Showers High: 62 °F']\n",
            "[': Thursday Night: Chance Showers Low: 50 °F']\n",
            "[': Friday: Scattered Showers High: 62 °F']\n",
            "[': Friday Night: Partly Cloudy Low: 47 °F']\n",
            "[': Saturday: Chance Showers then Showers Likely High: 60 °F']\n",
            "[': Saturday Night: Showers Likely Low: 47 °F']\n",
            "[': Sunday: Chance Showers High: 61 °F:']\n",
            "[': Sunday Night: Mostly Cloudy Low: 47 °F:']\n"
          ],
          "name": "stdout"
        }
      ]
    },
    {
      "cell_type": "code",
      "metadata": {
        "colab": {
          "base_uri": "https://localhost:8080/"
        },
        "id": "B5U1Q_kWpI_T",
        "outputId": "fec84823-a0cd-45a4-a4b7-d33331e5f55b"
      },
      "source": [
        "#converting the final output to uppercase\n",
        "list1 = \"[': Tonight: Chance T-storms then Chance Showers Low: 58 °F']\"\n",
        "list2 = \"[': Thursday: Showers High: 62 °F']\"\n",
        "list3 = \"[': Thursday Night: Chance Showers Low: 50 °F']\"\n",
        "list4 = \"[': Friday: Scattered Showers High: 62 °F']\"\n",
        "list5 = \"[': Friday Night: Partly Cloudy Low: 47 °F']\"\n",
        "list6 = \"[': Saturday: Chance Showers then Showers Likely High: 60 °F']\"\n",
        "list7 = \"[': Saturday Night: Showers Likely Low: 47 °F']\"\n",
        "list8 = \"[': Sunday: Chance Showers High: 61 °F:']\"\n",
        "list9 = \"[': Sunday Night: Mostly Cloudy Low: 47 °F:']\"\n",
        "#using the upper() function to convert\n",
        "print(list1.upper())\n",
        "print(list2.upper())\n",
        "print(list3.upper())\n",
        "print(list4.upper())\n",
        "print(list5.upper())\n",
        "print(list6.upper())\n",
        "print(list7.upper())\n",
        "print(list8.upper())\n",
        "print(list9.upper())"
      ],
      "execution_count": 73,
      "outputs": [
        {
          "output_type": "stream",
          "text": [
            "[': TONIGHT: CHANCE T-STORMS THEN CHANCE SHOWERS LOW: 58 °F']\n",
            "[': THURSDAY: SHOWERS HIGH: 62 °F']\n",
            "[': THURSDAY NIGHT: CHANCE SHOWERS LOW: 50 °F']\n",
            "[': FRIDAY: SCATTERED SHOWERS HIGH: 62 °F']\n",
            "[': FRIDAY NIGHT: PARTLY CLOUDY LOW: 47 °F']\n",
            "[': SATURDAY: CHANCE SHOWERS THEN SHOWERS LIKELY HIGH: 60 °F']\n",
            "[': SATURDAY NIGHT: SHOWERS LIKELY LOW: 47 °F']\n",
            "[': SUNDAY: CHANCE SHOWERS HIGH: 61 °F:']\n",
            "[': SUNDAY NIGHT: MOSTLY CLOUDY LOW: 47 °F:']\n"
          ],
          "name": "stdout"
        }
      ]
    }
  ]
}