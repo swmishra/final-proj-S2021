{
  "nbformat": 4,
  "nbformat_minor": 0,
  "metadata": {
    "colab": {
      "name": "Final Project: Script 1",
      "provenance": [],
      "collapsed_sections": [],
      "authorship_tag": "ABX9TyPjmMETQaM6Vmn2er7XmXjf",
      "include_colab_link": true
    },
    "kernelspec": {
      "name": "python3",
      "display_name": "Python 3"
    },
    "language_info": {
      "name": "python"
    }
  },
  "cells": [
    {
      "cell_type": "markdown",
      "metadata": {
        "id": "view-in-github",
        "colab_type": "text"
      },
      "source": [
        "<a href=\"https://colab.research.google.com/github/swmishra/final-proj-S2021/blob/master/Final_Project_Script_1.ipynb\" target=\"_parent\"><img src=\"https://colab.research.google.com/assets/colab-badge.svg\" alt=\"Open In Colab\"/></a>"
      ]
    },
    {
      "cell_type": "markdown",
      "metadata": {
        "id": "uYrpsFqWgSLF"
      },
      "source": [
        "Name: Web-scraping Weather Forecast Information with Python\n",
        "\n",
        "Date created: 6 APRIL 2021\n",
        "\n",
        "Version of Python you are using: 3.9.2\n",
        "\n",
        "Very brief description of the assignment or the assignment name. Include inputs and outputs.\n",
        "\n",
        "In this lab, I am working with a script that scrapes the 5-day weather forecast from the National Weather Service website. The script extracts information from multiple elements listed under the same class name using the BeautifulSoup library.\n",
        "\n",
        "INPUT: \n",
        "\n",
        "OUTPUT: "
      ]
    },
    {
      "cell_type": "code",
      "metadata": {
        "colab": {
          "base_uri": "https://localhost:8080/"
        },
        "id": "ml0c8S5ygK5S",
        "outputId": "2d2fe6c7-ae65-43a6-d07b-8cb7e7b15fd3"
      },
      "source": [
        "'''\n",
        "Don't forget the comment block!\n",
        "'''\n",
        "\n",
        "# import required libraries\n",
        "import requests\n",
        "from bs4 import BeautifulSoup\n",
        "\n",
        "# Create an empty list to store response\n",
        "forecast = []\n",
        "\n",
        "## Provide the latitude and longitude for the location you would like to check the forecast for\n",
        "## Lat/lon in decimal degrees provided for Chicago, IL\n",
        "lat = '41.878113'\n",
        "lon = '-87.629799'\n",
        "\n",
        "# Create url for the requested location through string concatenation\n",
        "url = 'https://forecast.weather.gov/MapClick.php?lat=41.8843&lon=-87.6324#.YG32hs-SmHs'+lat+\"&lon=\"+lon\n",
        "# Check if the URL exists\n",
        "# print url\n",
        "\n",
        "# Send request to retrieve the web-page using the get() function from the requests library\n",
        "# The page variable stores the response from the web-page\n",
        "page = requests.get(url)\n",
        "\n",
        "# Create a BeautifulSoup object with the response from the URL\n",
        "# Access contents of the web-page using .content\n",
        "# html_parser is used since our page is in HTML format\n",
        "soup=BeautifulSoup(page.content,\"html.parser\")\n",
        "\n",
        "# Locate elements on page to be scraped\n",
        "# findAll() locates all occurrences of div tag with the given class name\n",
        "# stores it in the BeautifulSoup object\n",
        "weather_forecast = soup.findAll(\"li\", {\"class\": \"forecast-tombstone\"})\n",
        "\n",
        "# Loop through the BeautifulSoup object to extract text text from every class instance using .text\n",
        "# Store results in a list\n",
        "for i in weather_forecast:\n",
        "    i = i.text\n",
        "    forecast.append(i)\n",
        "\n",
        "# Print list to remove unicode characters\n",
        "for day in forecast:\n",
        "    print(day)"
      ],
      "execution_count": 4,
      "outputs": [
        {
          "output_type": "stream",
          "text": [
            "\n",
            "\n",
            "Tonight\n",
            "ChanceT-storms thenChanceShowersLow: 58 °F\n",
            "\n",
            "\n",
            "Thursday\n",
            "ShowersHigh: 62 °F\n",
            "\n",
            "\n",
            "ThursdayNight\n",
            "ChanceShowersLow: 50 °F\n",
            "\n",
            "\n",
            "Friday\n",
            "ScatteredShowersHigh: 62 °F\n",
            "\n",
            "\n",
            "FridayNight\n",
            "Partly CloudyLow: 47 °F\n",
            "\n",
            "\n",
            "Saturday\n",
            "ChanceShowers thenShowersLikelyHigh: 60 °F\n",
            "\n",
            "\n",
            "SaturdayNight\n",
            "ShowersLikelyLow: 47 °F\n",
            "\n",
            "\n",
            "Sunday\n",
            "ChanceShowersHigh: 61 °F\n",
            "\n",
            "\n",
            "SundayNight\n",
            "Mostly CloudyLow: 47 °F\n"
          ],
          "name": "stdout"
        }
      ]
    },
    {
      "cell_type": "code",
      "metadata": {
        "id": "I-AosNHMqE-R"
      },
      "source": [
        "# Split string into a list\n",
        "# Use two blank lines (\\n\\n) as the separator\n",
        "# Creates a list item at every instance of separator\n",
        "forecast_list = forecast.split('\\n\\n')\n",
        "\n",
        "# Loop through list to make string replacements to each item\n",
        "# Remove extra whitespaces or lines for a cleaner format\n",
        "for day in forecast_list:\n",
        "    day = day.replace('\\n',': ')\n",
        "    # add your code here\n",
        "    print(day)"
      ],
      "execution_count": null,
      "outputs": []
    }
  ]
}